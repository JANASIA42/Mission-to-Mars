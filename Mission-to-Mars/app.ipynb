{
 "cells": [
  {
   "cell_type": "code",
   "execution_count": 1,
   "id": "3f827923",
   "metadata": {},
   "outputs": [],
   "source": [
    "from flask import Flask, render_template, redirect, url_for\n",
    "from flask_pymongo import PyMongo\n",
    "import scraping"
   ]
  },
  {
   "cell_type": "code",
   "execution_count": 2,
   "id": "fd834ac3",
   "metadata": {},
   "outputs": [],
   "source": [
    "# set up Flask.\n",
    "app = Flask(__name__)"
   ]
  },
  {
   "cell_type": "code",
   "execution_count": 3,
   "id": "f8677ce0",
   "metadata": {},
   "outputs": [],
   "source": [
    "# Use flask_pymongo to set up mongo connection / tell Python how to connect to Mongo using PyMongo.\n",
    "\n",
    "app.config[\"MONGO_URI\"] = \"mongodb://localhost:27017/mars_app\"\n",
    "# tells Python that our app will connect to Mongo using a URI, a uniform resource identifier similar to a URL.   \n",
    "# This URI is saying that the app can reach Mongo through our localhost server (port 27017) using a database named \"mars_app\".\n",
    "\n",
    "\n",
    "mongo = PyMongo(app)"
   ]
  },
  {
   "cell_type": "code",
   "execution_count": 4,
   "id": "ce7e735b",
   "metadata": {},
   "outputs": [],
   "source": [
    "# define the route for the HTML page.\n",
    "\n",
    "@app.route(\"/\")\n",
    "def index():\n",
    "   mars = mongo.db.mars.find_one() # uses PyMongo to find the \"mars\" collection in our database\n",
    "   return render_template(\"index.html\", mars=mars) # tells Flask to return an HTML template using an index.html file' \"mars=mars\" tells Python to use the \"mars\" collection in MongoDB"
   ]
  },
  {
   "cell_type": "code",
   "execution_count": 5,
   "id": "b675153c",
   "metadata": {},
   "outputs": [],
   "source": [
    "@app.route(\"/scrape\")\n",
    "def scrape():\n",
    "   mars = mongo.db.mars\n",
    "   mars_data = scraping.scrape_all()\n",
    "   mars.update_one({}, {\"$set\":mars_data}, upsert=True)\n",
    "   return redirect('/', code=302)"
   ]
  },
  {
   "cell_type": "code",
   "execution_count": null,
   "id": "21d64950",
   "metadata": {},
   "outputs": [],
   "source": [
    "#@app.route(\"/scrape\") # defines the route that flask will use; \"scrape\" route will run the function below.\n",
    "#def scrape():\n",
    "#   mars = mongo.db.mars # assign variable that points to mongo database.\n",
    "\n",
    "#   mars_data = scraping.scrape_all() # create a new variable to hold the scraped data\n",
    "    \n",
    "#   mars.update_one({}, {\"$set\":mars_data}, upsert=True) # update the database; \n",
    "    # syntax: .update_one(query_parameter, {\"$set\": data}, options); \n",
    "    # leaving query_param blank updates only first matching document in collection.\n",
    "    # {\"$set\": data} means that doc will be modified with data in question\n",
    "    # \"upsert=True\" indicates to Mongo to create new doc if one doesn't exist already; new data always saved even if there's no doc.\n",
    "   \n",
    "    # return redirect('/', code=302) # navigates back to / where we see updated content."
   ]
  },
  {
   "cell_type": "code",
   "execution_count": null,
   "id": "a4682f7e",
   "metadata": {},
   "outputs": [
    {
     "name": "stdout",
     "output_type": "stream",
     "text": [
      " * Serving Flask app \"__main__\" (lazy loading)\n",
      " * Environment: production\n",
      "\u001b[31m   WARNING: This is a development server. Do not use it in a production deployment.\u001b[0m\n",
      "\u001b[2m   Use a production WSGI server instead.\u001b[0m\n",
      " * Debug mode: off\n"
     ]
    },
    {
     "name": "stderr",
     "output_type": "stream",
     "text": [
      " * Running on http://127.0.0.1:5000/ (Press CTRL+C to quit)\n"
     ]
    }
   ],
   "source": [
    "if __name__ == \"__main__\":\n",
    "   app.run()"
   ]
  },
  {
   "cell_type": "code",
   "execution_count": null,
   "id": "a06552c1",
   "metadata": {},
   "outputs": [],
   "source": []
  }
 ],
 "metadata": {
  "kernelspec": {
   "display_name": "Python 3 (ipykernel)",
   "language": "python",
   "name": "python3"
  },
  "language_info": {
   "codemirror_mode": {
    "name": "ipython",
    "version": 3
   },
   "file_extension": ".py",
   "mimetype": "text/x-python",
   "name": "python",
   "nbconvert_exporter": "python",
   "pygments_lexer": "ipython3",
   "version": "3.7.13"
  }
 },
 "nbformat": 4,
 "nbformat_minor": 5
}
