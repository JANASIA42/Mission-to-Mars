{
 "cells": [
  {
   "cell_type": "code",
   "execution_count": 1,
   "id": "cb6222c1",
   "metadata": {},
   "outputs": [],
   "source": [
    "from flask import Flask, render_template, redirect, url_for"
   ]
  },
  {
   "cell_type": "code",
   "execution_count": 2,
   "id": "a1cad4d0",
   "metadata": {},
   "outputs": [],
   "source": [
    "from flask_pymongo import PyMongo"
   ]
  },
  {
   "cell_type": "code",
   "execution_count": 3,
   "id": "226c3b0e",
   "metadata": {},
   "outputs": [
    {
     "ename": "SyntaxError",
     "evalue": "invalid syntax (scraping.py, line 28)",
     "output_type": "error",
     "traceback": [
      "Traceback \u001b[1;36m(most recent call last)\u001b[0m:\n",
      "  File \u001b[0;32m\"C:\\Users\\janas\\anaconda3\\envs\\PythonData\\lib\\site-packages\\IPython\\core\\interactiveshell.py\"\u001b[0m, line \u001b[0;32m3457\u001b[0m, in \u001b[0;35mrun_code\u001b[0m\n    exec(code_obj, self.user_global_ns, self.user_ns)\n",
      "\u001b[1;36m  File \u001b[1;32m\"C:\\Users\\janas\\AppData\\Local\\Temp\\ipykernel_14060\\3399045902.py\"\u001b[1;36m, line \u001b[1;32m1\u001b[1;36m, in \u001b[1;35m<module>\u001b[1;36m\u001b[0m\n\u001b[1;33m    import scraping\u001b[0m\n",
      "\u001b[1;36m  File \u001b[1;32m\"C:\\Users\\janas\\OneDrive\\Desktop\\Data_Analytics\\Module_10_Web_Scraping\\Mission-to-Mars\\scraping.py\"\u001b[1;36m, line \u001b[1;32m28\u001b[0m\n\u001b[1;33m    \"hemisphere_data\": hemisphere_scrape(browser)\u001b[0m\n\u001b[1;37m                    ^\u001b[0m\n\u001b[1;31mSyntaxError\u001b[0m\u001b[1;31m:\u001b[0m invalid syntax\n"
     ]
    }
   ],
   "source": [
    "import scraping"
   ]
  },
  {
   "cell_type": "code",
   "execution_count": 4,
   "id": "16b2b3dd",
   "metadata": {},
   "outputs": [],
   "source": [
    "# set up Flask.\n",
    "app = Flask(__name__)"
   ]
  },
  {
   "cell_type": "code",
   "execution_count": 5,
   "id": "e1ee2917",
   "metadata": {},
   "outputs": [],
   "source": [
    "# Use flask_pymongo to set up mongo connection / tell Python how to connect to Mongo using PyMongo.\n",
    "mongo = PyMongo(app, uri=\"mongodb://localhost:27017/mars_app\")\n",
    "\n",
    "#app.config[\"MONGO_URI\"] = \"mongodb://localhost:27017/mars_app\"\n",
    "# tells Python that our app will connect to Mongo using a URI, a uniform resource identifier similar to a URL.   \n",
    "# This URI is saying that the app can reach Mongo through our localhost server (port 27017) using a database named \"mars_app\"."
   ]
  },
  {
   "cell_type": "code",
   "execution_count": 6,
   "id": "297cd79b",
   "metadata": {},
   "outputs": [],
   "source": [
    "# define the route for the HTML page.\n",
    "\n",
    "@app.route(\"/\")\n",
    "def index():\n",
    "   mars = mongo.db.mars.find_one() # uses PyMongo to find the \"mars\" collection in our database\n",
    "   return render_template(\"index.html\", mars=mars) # tells Flask to return an HTML template using an index.html file' \"mars=mars\" tells Python to use the \"mars\" collection in MongoDB"
   ]
  },
  {
   "cell_type": "code",
   "execution_count": 7,
   "id": "8f1024a8",
   "metadata": {},
   "outputs": [],
   "source": [
    "@app.route(\"/scrape\")\n",
    "def scrape():\n",
    "   mars = mongo.db.mars\n",
    "   mars_data = scraping.scrape_all()\n",
    "   mars.update_one({}, {\"$set\":mars_data}, upsert=True)\n",
    "   return redirect('/', code=302)"
   ]
  },
  {
   "cell_type": "code",
   "execution_count": 16,
   "id": "d149d0c9",
   "metadata": {},
   "outputs": [],
   "source": [
    "#@app.route(\"/scrape\") # defines the route that flask will use; \"scrape\" route will run the function below.\n",
    "#def scrape():\n",
    "#   mars = mongo.db.mars # assign variable that points to mongo database.\n",
    "\n",
    "#   mars_data = scraping.scrape_all() # create a new variable to hold the scraped data\n",
    "    \n",
    "#   mars.update_one({}, {\"$set\":mars_data}, upsert=True) # update the database; \n",
    "    # syntax: .update_one(query_parameter, {\"$set\": data}, options); \n",
    "    # leaving query_param blank updates only first matching document in collection.\n",
    "    # {\"$set\": data} means that doc will be modified with data in question\n",
    "    # \"upsert=True\" indicates to Mongo to create new doc if one doesn't exist already; new data always saved even if there's no doc.\n",
    "   \n",
    "    # return redirect('/', code=302) # navigates back to / where we see updated content."
   ]
  },
  {
   "cell_type": "code",
   "execution_count": null,
   "id": "66eb6d10",
   "metadata": {},
   "outputs": [
    {
     "name": "stdout",
     "output_type": "stream",
     "text": [
      " * Serving Flask app \"__main__\" (lazy loading)\n",
      " * Environment: production\n",
      "\u001b[31m   WARNING: This is a development server. Do not use it in a production deployment.\u001b[0m\n",
      "\u001b[2m   Use a production WSGI server instead.\u001b[0m\n",
      " * Debug mode: off\n"
     ]
    },
    {
     "name": "stderr",
     "output_type": "stream",
     "text": [
      " * Running on http://127.0.0.1:5000/ (Press CTRL+C to quit)\n",
      "127.0.0.1 - - [28/Aug/2022 22:39:16] \"GET / HTTP/1.1\" 200 -\n",
      "[2022-08-28 22:39:20,435] ERROR in app: Exception on /scrape [GET]\n",
      "Traceback (most recent call last):\n",
      "  File \"C:\\Users\\janas\\anaconda3\\envs\\PythonData\\lib\\site-packages\\flask\\app.py\", line 2447, in wsgi_app\n",
      "    response = self.full_dispatch_request()\n",
      "  File \"C:\\Users\\janas\\anaconda3\\envs\\PythonData\\lib\\site-packages\\flask\\app.py\", line 1952, in full_dispatch_request\n",
      "    rv = self.handle_user_exception(e)\n",
      "  File \"C:\\Users\\janas\\anaconda3\\envs\\PythonData\\lib\\site-packages\\flask\\app.py\", line 1821, in handle_user_exception\n",
      "    reraise(exc_type, exc_value, tb)\n",
      "  File \"C:\\Users\\janas\\anaconda3\\envs\\PythonData\\lib\\site-packages\\flask\\_compat.py\", line 39, in reraise\n",
      "    raise value\n",
      "  File \"C:\\Users\\janas\\anaconda3\\envs\\PythonData\\lib\\site-packages\\flask\\app.py\", line 1950, in full_dispatch_request\n",
      "    rv = self.dispatch_request()\n",
      "  File \"C:\\Users\\janas\\anaconda3\\envs\\PythonData\\lib\\site-packages\\flask\\app.py\", line 1936, in dispatch_request\n",
      "    return self.view_functions[rule.endpoint](**req.view_args)\n",
      "  File \"C:\\Users\\janas\\AppData\\Local\\Temp\\ipykernel_14060\\18937253.py\", line 4, in scrape\n",
      "    mars_data = scraping.scrape_all()\n",
      "NameError: name 'scraping' is not defined\n",
      "127.0.0.1 - - [28/Aug/2022 22:39:20] \"GET /scrape HTTP/1.1\" 500 -\n"
     ]
    }
   ],
   "source": [
    "if __name__ == \"__main__\":\n",
    "   app.run()"
   ]
  },
  {
   "cell_type": "code",
   "execution_count": null,
   "id": "e8ce3a10",
   "metadata": {},
   "outputs": [],
   "source": []
  }
 ],
 "metadata": {
  "kernelspec": {
   "display_name": "Python 3 (ipykernel)",
   "language": "python",
   "name": "python3"
  },
  "language_info": {
   "codemirror_mode": {
    "name": "ipython",
    "version": 3
   },
   "file_extension": ".py",
   "mimetype": "text/x-python",
   "name": "python",
   "nbconvert_exporter": "python",
   "pygments_lexer": "ipython3",
   "version": "3.7.13"
  }
 },
 "nbformat": 4,
 "nbformat_minor": 5
}
